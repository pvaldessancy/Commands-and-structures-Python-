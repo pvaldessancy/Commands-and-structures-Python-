{
 "cells": [
  {
   "cell_type": "markdown",
   "id": "babfabdc",
   "metadata": {},
   "source": [
    "# Desafío N°2 - Conociendo Python (Parte II)"
   ]
  },
  {
   "cell_type": "markdown",
   "id": "87d76266",
   "metadata": {},
   "source": [
    "### Ejercicio 1: Suma de números pares\n",
    "\n",
    "Escribe un programa que pida al usuario dos números enteros y calcule la suma de todos los números pares entre ellos. \n",
    "El programa deberá imprimir el resultado. \n",
    "💡Utilice la función range() para generar la secuencia de números enteros)"
   ]
  },
  {
   "cell_type": "code",
   "execution_count": null,
   "id": "c50b31ed",
   "metadata": {},
   "outputs": [],
   "source": [
    "numero1=int(input(\"Ingrese el primer número de la secuencia: \"))"
   ]
  },
  {
   "cell_type": "code",
   "execution_count": null,
   "id": "a3aec8ed",
   "metadata": {},
   "outputs": [],
   "source": [
    "numero2=int(input(\"Ingrese el número final de la secuencia: \")) + 1  # Se agrega el +1 para incluir el último valor"
   ]
  },
  {
   "cell_type": "code",
   "execution_count": null,
   "id": "c0b657fd",
   "metadata": {},
   "outputs": [],
   "source": [
    "# Revisemos los números pares que se generan en el rango, utilizando el operador % corresponde a un módulo, que en este\n",
    "# caso calcula si el remanente, al dividir i por 2, es igual a cero, lo cual es condición de número par.\n",
    "for i in range(numero1,numero2):\n",
    "    if i % 2 == 0:\n",
    "        print(i)"
   ]
  },
  {
   "cell_type": "code",
   "execution_count": null,
   "id": "0daeda11",
   "metadata": {},
   "outputs": [],
   "source": [
    "total_sum = 0 # Creamos esta variable para asegurar que la suma siempre se inicialice en 0"
   ]
  },
  {
   "cell_type": "code",
   "execution_count": null,
   "id": "f3d43c05",
   "metadata": {},
   "outputs": [],
   "source": [
    "# Utilizaremos el ciclo \"for\" el cual nos permite recorrer la lista de números en el rango dado.\n",
    "for i in range(numero1,numero2):\n",
    "    if i % 2 == 0:\n",
    "         total_sum += i #Utilizamos el operador += para adicionar a la variable \"total_sum\" los valores que cumplen la condición de número par.\n",
    "print(f\"La suma de pares entre el {numero1} y el {numero2 - 1} es {total_sum}\")"
   ]
  },
  {
   "cell_type": "markdown",
   "id": "5b68a88b",
   "metadata": {},
   "source": [
    "### Ejercicio 2: Calculadora de áreas\n",
    "\n",
    "Escribe un programa que pida al usuario el tipo de figura geométrica de la que quiere calcular el área (cuadrado, triángulo o círculo) y las medidas correspondientes. El programa deberá calcular y mostrar el área de la figura seleccionada. \n",
    "💡: Para obtener el número pi puedes utilizar la librería math."
   ]
  },
  {
   "cell_type": "code",
   "execution_count": null,
   "id": "fa03228c",
   "metadata": {},
   "outputs": [],
   "source": [
    "# Importamos la biblioteca math para encontrar el número pi que utilizaremos en el cálculo del área del círculo.\n",
    "import math\n",
    "pi = math.pi\n",
    "\n",
    "# Para optimizar la operación, realizaremos la definición de funciones por cada figura geométrica.\n",
    "def circulo():\n",
    "    radius = float(input(\"Ingresa el radio: \"))\n",
    "    area = pi * (radius ** 2)\n",
    "    print(\"El área del círculo es: \", area)\n",
    "\n",
    "def cuadrado():\n",
    "    lado = float(input(\"Ingresa la medida de un lado: \"))\n",
    "    area_c = (lado * lado)\n",
    "    print(\"El área de un cuadrado es: \", area_c)\n",
    "\n",
    "def triangulo():\n",
    "    base = float(input(\"Ingresa la medida de la base: \"))\n",
    "    alto = float(input(\"Ingresa el alto del triangulo: \"))\n",
    "    area_t = (base*alto)/2\n",
    "    print(\"El área del triángulo es: \", area_t)\n",
    "\n",
    "# Mediante el ciclo while consultaremos al usuario que figura geométrica quiere consultar, una vez obtenido ese input, el programa buscará la función correspondiente (definida anteriormente)    \n",
    "while True:\n",
    "    which = int(input('''Ingresa el N° de la figura para la cual deseas calcular el área:\n",
    "1. Circulo\n",
    "2. Cuadrado\n",
    "3. Triangulo\n",
    "4. Salir\\n'''))\n",
    "    \n",
    "    if which == 1:\n",
    "        circulo()\n",
    "    elif which == 2:\n",
    "        cuadrado()\n",
    "    elif which == 3:\n",
    "        triangulo()\n",
    "    elif which == 4:\n",
    "        break # Salida del loop si el usuario escoge esta alternativa  \n",
    "    else:\n",
    "        print(\"Entrada inválida\")\n",
    "    \n",
    "print (\"Gracias por usar el programa de cálculo de áreas\")"
   ]
  },
  {
   "cell_type": "markdown",
   "id": "f0b7f80c",
   "metadata": {},
   "source": [
    "### Ejercicio 3: Adivina el número\n",
    "\n",
    "Escribe un programa que genere un número aleatorio entre 1 y 100 y pida al usuario que adivine cuál es. \n",
    "El programa deberá dar pistas al usuario diciendo si el número que ha introducido es mayor o menor que el número aleatorio. \n",
    "El programa deberá continuar pidiendo números hasta que el usuario adivine el número correcto. \n",
    "💡:Utiliza un ciclo while para mantener al programa pidiendo números."
   ]
  },
  {
   "cell_type": "code",
   "execution_count": null,
   "id": "ccc7e559",
   "metadata": {},
   "outputs": [],
   "source": [
    "# Importamos la librería random que nos permite trabajar con rangos de números aleatorios y establecemos el rango de números entre los cuales debe traer un número aleatorio.\n",
    "import random\n",
    "\n",
    "min_range = 1 \n",
    "max_range = 100\n",
    "\n",
    "\n",
    "while True:\n",
    "    numero = random.randint (min_range,max_range) #Para hacer más sencilla la adivinanza, creamos un rango dinámico\n",
    "    numero_usuario = int(input(f\"Adivine un número entre {min_range} y {max_range}: \"))\n",
    "   \n",
    "    if numero_usuario == numero:\n",
    "        print (f\"¡Felicitaciones has acertado! el número correcto es: {numero}\") \n",
    "        break\n",
    "    elif numero_usuario < numero:\n",
    "        print (\"Pista: El número es mayor al que indicas\")\n",
    "        min_range = numero_usuario + 1 # Con esto actualizamos el rango y sumamos 1 para descartar el número indicado por el usuario anteriormente\n",
    "    elif numero_usuario > numero:\n",
    "        print (\"Pista: El número es menor al que indicas\")\n",
    "        max_range = numero_usuario - 1 # Actualizamos nuevamente el rango y restamos 1 para descartar el número indicado por el usuario anteriormente    \n",
    "    salir = input(\"¿Salir del juego?(si/no): \")\n",
    "    if salir.lower() == \"si\": # lower nos permite procesar la entrada del usuario sin hacer distinción entre mayúsculas y minúsculas\n",
    "        print(\"Gracias por jugar, nos vemos!\")\n",
    "        break\n",
    "       "
   ]
  },
  {
   "cell_type": "markdown",
   "id": "021d5d5e",
   "metadata": {},
   "source": [
    "### Ejercicio 4: Maratón de Caracoles\n",
    "\n",
    "Crea un programa que simule un caracol que va corriendo una maratón. \n",
    "Pide al usuario que ingrese la velocidad a la que puede correr el caracol. Debes usar un ciclo while, para ir\n",
    "mostrando un emoji de caracol 🐌 que se vaya moviendo hacia la derecha en cada\n",
    "impresión, el avance del caracol debe visualizarse de esta forma:\n",
    "__________ 🐌\n",
    "____________________ 🐌\n",
    "______________________________ 🐌\n",
    "________________________________________ 🐌\n",
    "__________________________________________________ 🐌\n",
    "____________________________________________________________ 🐌\n",
    "______________________________________________________________________ 🐌\n",
    "________________________________________________________________________________ 🐌\n",
    "__________________________________________________________________________________________ 🐌\n"
   ]
  },
  {
   "cell_type": "code",
   "execution_count": null,
   "id": "0c40a2d5",
   "metadata": {},
   "outputs": [],
   "source": [
    "# Definimos un tamaño de la pista de carrera para así tener un inicio y fin y poder generar un recorrido del caracol en base a ese rango.\n",
    "min_range4 = 0\n",
    "max_range4 = 100\n",
    "\n",
    "# Definimos las variables que nos servirán para mostrar la trayectoria solicitada:\n",
    "corrida = \"_\"\n",
    "caracol = \"🐌\"\n",
    "\n",
    "# Dado que el usuario debe indicar la velocidad, definiremos esta variable dentro del ciclo while\n",
    "while True:\n",
    "    velocidad = int(input(\"Ingrese velocidad del caracol entre 0 y 100: \"))\n",
    "    \n",
    "    if velocidad == 0:\n",
    "        print(\"🐌\")\n",
    "    else:\n",
    "        distancia_recorrida = min_range4  # Inicializamos la distancia restante con el mínimo\n",
    "\n",
    "# Para mantener activa la trayectoria, creamos un nuevo ciclo while, y definimos una variable \"distancia_restante\" que cuando sea < al rango máximo continue el ciclo.       \n",
    "        while distancia_recorrida < max_range4:\n",
    "            avance = min(velocidad, max_range4 - distancia_recorrida)  # Calculamos el avance en esta iteración\n",
    "            distancia_recorrida += avance # Con el operador += agregamos a la distancia recorrida el avance.\n",
    "            print(corrida * distancia_recorrida + caracol)\n",
    "        \n",
    "    salir = input(\"¿Salir del juego? (si/no): \")\n",
    "    if salir.lower() == \"si\":\n",
    "        print(\"Gracias por jugar, nos vemos!\")\n",
    "        break\n"
   ]
  },
  {
   "cell_type": "code",
   "execution_count": null,
   "id": "568410ef",
   "metadata": {},
   "outputs": [],
   "source": []
  },
  {
   "cell_type": "code",
   "execution_count": null,
   "id": "08e25fa3",
   "metadata": {},
   "outputs": [],
   "source": []
  }
 ],
 "metadata": {
  "kernelspec": {
   "display_name": "Python 3 (ipykernel)",
   "language": "python",
   "name": "python3"
  },
  "language_info": {
   "codemirror_mode": {
    "name": "ipython",
    "version": 3
   },
   "file_extension": ".py",
   "mimetype": "text/x-python",
   "name": "python",
   "nbconvert_exporter": "python",
   "pygments_lexer": "ipython3",
   "version": "3.11.4"
  }
 },
 "nbformat": 4,
 "nbformat_minor": 5
}
